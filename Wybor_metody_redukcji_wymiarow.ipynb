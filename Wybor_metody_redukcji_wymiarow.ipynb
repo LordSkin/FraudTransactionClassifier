{
 "cells": [
  {
   "cell_type": "markdown",
   "metadata": {},
   "source": [
    "## Pobranie danych z pliku"
   ]
  },
  {
   "cell_type": "code",
   "execution_count": 1,
   "metadata": {},
   "outputs": [],
   "source": [
    "import numpy as np\n",
    "\n",
    "file_name = \"creditcard.csv\"\n",
    "file = open(file_name)\n",
    "file.readline()  # skip the header\n",
    "data = np.loadtxt(file, delimiter=',')"
   ]
  },
  {
   "cell_type": "markdown",
   "metadata": {},
   "source": [
    "## Wydzielenie zbiorów"
   ]
  },
  {
   "cell_type": "code",
   "execution_count": 2,
   "metadata": {},
   "outputs": [],
   "source": [
    "from sklearn.model_selection import train_test_split\n",
    "\n",
    "X_train, X_test, Y_train, Y_test = train_test_split(data[:, :30], data[:, 30:], random_state=0)\n",
    "Y_train = Y_train.astype(int)\n",
    "Y_test = Y_test.astype(int)"
   ]
  },
  {
   "cell_type": "markdown",
   "metadata": {},
   "source": [
    "## Resampling klas"
   ]
  },
  {
   "cell_type": "code",
   "execution_count": 3,
   "metadata": {},
   "outputs": [
    {
     "name": "stderr",
     "output_type": "stream",
     "text": [
      "Using TensorFlow backend.\n",
      "c:\\program files\\python36\\lib\\site-packages\\sklearn\\utils\\validation.py:760: DataConversionWarning: A column-vector y was passed when a 1d array was expected. Please change the shape of y to (n_samples, ), for example using ravel().\n",
      "  y = column_or_1d(y, warn=True)\n"
     ]
    }
   ],
   "source": [
    "from imblearn.over_sampling import ADASYN\n",
    "\n",
    "X_train, Y_train = ADASYN().fit_resample(X_train, Y_train)"
   ]
  },
  {
   "cell_type": "markdown",
   "metadata": {},
   "source": [
    "## Inicjacja struktur danych do testów"
   ]
  },
  {
   "cell_type": "code",
   "execution_count": 4,
   "metadata": {},
   "outputs": [],
   "source": [
    "scores_false_negative = []\n",
    "scores_false_positive = []\n",
    "methods = []"
   ]
  },
  {
   "cell_type": "markdown",
   "metadata": {},
   "source": [
    "## Wybór metody"
   ]
  },
  {
   "cell_type": "markdown",
   "metadata": {},
   "source": [
    "### PCA"
   ]
  },
  {
   "cell_type": "code",
   "execution_count": 5,
   "metadata": {},
   "outputs": [
    {
     "name": "stdout",
     "output_type": "stream",
     "text": [
      "[[71018    64]\n",
      " [   24    96]]\n"
     ]
    }
   ],
   "source": [
    "from sklearn.pipeline import make_pipeline\n",
    "from sklearn.neural_network import MLPClassifier\n",
    "from sklearn.preprocessing import StandardScaler\n",
    "from sklearn.metrics import confusion_matrix\n",
    "from sklearn.decomposition import PCA\n",
    "\n",
    "\n",
    "pipeline = make_pipeline(StandardScaler(), PCA(n_components=15), MLPClassifier())\n",
    "pipeline.fit(X_train, Y_train)\n",
    "cm = confusion_matrix(Y_test, pipeline.predict(X_test))\n",
    "scores_false_positive.append(cm[0, 1])\n",
    "scores_false_negative.append(cm[1, 0])\n",
    "print(cm)\n",
    "methods.append(\"PCA\")"
   ]
  },
  {
   "cell_type": "markdown",
   "metadata": {},
   "source": [
    "### Feature aglomeration"
   ]
  },
  {
   "cell_type": "code",
   "execution_count": 6,
   "metadata": {},
   "outputs": [
    {
     "name": "stdout",
     "output_type": "stream",
     "text": [
      "[[71033    49]\n",
      " [   26    94]]\n"
     ]
    }
   ],
   "source": [
    "from sklearn.pipeline import make_pipeline\n",
    "from sklearn.neural_network import MLPClassifier\n",
    "from sklearn.preprocessing import StandardScaler\n",
    "from sklearn.metrics import confusion_matrix\n",
    "from sklearn import datasets, cluster\n",
    "pipeline = make_pipeline(StandardScaler(), cluster.FeatureAgglomeration(n_clusters=15), MLPClassifier())\n",
    "pipeline.fit(X_train, Y_train)\n",
    "cm = confusion_matrix(Y_test, pipeline.predict(X_test))\n",
    "scores_false_positive.append(cm[0, 1])\n",
    "scores_false_negative.append(cm[1, 0])\n",
    "print(cm)\n",
    "methods.append(\"Feature Aglomeration\")"
   ]
  },
  {
   "cell_type": "markdown",
   "metadata": {},
   "source": [
    "### KBest"
   ]
  },
  {
   "cell_type": "code",
   "execution_count": 7,
   "metadata": {},
   "outputs": [
    {
     "name": "stdout",
     "output_type": "stream",
     "text": [
      "[[71031    51]\n",
      " [   18   102]]\n"
     ]
    }
   ],
   "source": [
    "from sklearn.pipeline import make_pipeline\n",
    "from sklearn.neural_network import MLPClassifier\n",
    "from sklearn.preprocessing import StandardScaler\n",
    "from sklearn.metrics import confusion_matrix\n",
    "from sklearn.feature_selection import SelectKBest, f_classif\n",
    "\n",
    "pipeline = make_pipeline(StandardScaler(), SelectKBest(score_func=f_classif, k=15), MLPClassifier())\n",
    "pipeline.fit(X_train, Y_train)\n",
    "cm = confusion_matrix(Y_test, pipeline.predict(X_test))\n",
    "scores_false_positive.append(cm[0, 1])\n",
    "scores_false_negative.append(cm[1, 0])\n",
    "print(cm)\n",
    "methods.append(\"K Best\")"
   ]
  },
  {
   "cell_type": "markdown",
   "metadata": {},
   "source": [
    "### Variance threshold"
   ]
  },
  {
   "cell_type": "code",
   "execution_count": 8,
   "metadata": {},
   "outputs": [
    {
     "name": "stdout",
     "output_type": "stream",
     "text": [
      "[[71065    17]\n",
      " [   23    97]]\n"
     ]
    }
   ],
   "source": [
    "from sklearn.pipeline import make_pipeline\n",
    "from sklearn.neural_network import MLPClassifier\n",
    "from sklearn.preprocessing import StandardScaler\n",
    "from sklearn.metrics import confusion_matrix\n",
    "from sklearn.feature_selection import VarianceThreshold\n",
    "\n",
    "pipeline = make_pipeline(StandardScaler(), VarianceThreshold(threshold=0.8), MLPClassifier())\n",
    "pipeline.fit(X_train, Y_train)\n",
    "cm = confusion_matrix(Y_test, pipeline.predict(X_test))\n",
    "scores_false_positive.append(cm[0, 1])\n",
    "scores_false_negative.append(cm[1, 0])\n",
    "print(cm)\n",
    "methods.append(\"Variance threshold\")"
   ]
  },
  {
   "cell_type": "markdown",
   "metadata": {},
   "source": [
    "### Recursive feature elimination "
   ]
  },
  {
   "cell_type": "code",
   "execution_count": 9,
   "metadata": {},
   "outputs": [
    {
     "name": "stdout",
     "output_type": "stream",
     "text": [
      "[[71030    52]\n",
      " [   21    99]]\n"
     ]
    }
   ],
   "source": [
    "from sklearn.pipeline import make_pipeline\n",
    "from sklearn.ensemble import RandomForestClassifier\n",
    "from sklearn.preprocessing import StandardScaler\n",
    "from sklearn.metrics import confusion_matrix\n",
    "from sklearn.feature_selection import RFE\n",
    "from sklearn.svm import SVR\n",
    "\n",
    "\n",
    "pipeline = make_pipeline(StandardScaler(), RFE(RandomForestClassifier(n_jobs=-1), n_features_to_select=15, step=5), MLPClassifier())\n",
    "pipeline.fit(X_train, Y_train)\n",
    "cm = confusion_matrix(Y_test, pipeline.predict(X_test))\n",
    "scores_false_positive.append(cm[0, 1])\n",
    "scores_false_negative.append(cm[1, 0])\n",
    "print(cm)\n",
    "methods.append(\"RFE\")"
   ]
  },
  {
   "cell_type": "markdown",
   "metadata": {},
   "source": [
    "###  Gaussian random projection"
   ]
  },
  {
   "cell_type": "code",
   "execution_count": 10,
   "metadata": {},
   "outputs": [
    {
     "name": "stdout",
     "output_type": "stream",
     "text": [
      "[[71023    59]\n",
      " [   30    90]]\n"
     ]
    }
   ],
   "source": [
    "from sklearn import random_projection\n",
    "\n",
    "methods.append(\"RFE\")\n",
    "pipeline = make_pipeline(StandardScaler(), random_projection.GaussianRandomProjection(n_components=15), MLPClassifier())\n",
    "pipeline.fit(X_train, Y_train)\n",
    "cm = confusion_matrix(Y_test, pipeline.predict(X_test))\n",
    "scores_false_positive.append(cm[0, 1])\n",
    "scores_false_negative.append(cm[1, 0])\n",
    "print(cm)\n",
    "methods.append(\"GRP\")"
   ]
  },
  {
   "cell_type": "markdown",
   "metadata": {},
   "source": [
    "## Wyniki"
   ]
  },
  {
   "cell_type": "markdown",
   "metadata": {},
   "source": [
    "### False negative"
   ]
  },
  {
   "cell_type": "code",
   "execution_count": 20,
   "metadata": {},
   "outputs": [
    {
     "data": {
      "image/png": "[encoded data removed]",
      "text/plain": [
       "<Figure size 432x288 with 1 Axes>"
      ]
     },
     "metadata": {
      "needs_background": "light"
     },
     "output_type": "display_data"
    }
   ],
   "source": [
    "import matplotlib.pyplot as plt\n",
    "\n",
    "plt.bar(np.arange(len(methods)), scores_false_negative, align='center', alpha=0.5)\n",
    "plt.xticks(np.arange(len(methods)), methods, rotation = 60)\n",
    "plt.ylabel('False negative')\n",
    "plt.title('Method')\n",
    "\n",
    "plt.show()"
   ]
  },
  {
   "cell_type": "markdown",
   "metadata": {},
   "source": [
    "### False positive"
   ]
  },
  {
   "cell_type": "code",
   "execution_count": 21,
   "metadata": {},
   "outputs": [
    {
     "data": {
      "image/png": "[encoded data removed]",
      "text/plain": [
       "<Figure size 432x288 with 1 Axes>"
      ]
     },
     "metadata": {
      "needs_background": "light"
     },
     "output_type": "display_data"
    }
   ],
   "source": [
    "import matplotlib.pyplot as plt\n",
    "\n",
    "plt.bar(np.arange(len(methods)), scores_false_positive, align='center', alpha=0.5)\n",
    "plt.xticks(np.arange(len(methods)), methods, rotation = 60)\n",
    "plt.ylabel('False positive')\n",
    "plt.title('Method')\n",
    "\n",
    "plt.show()"
   ]
  },
  {
   "cell_type": "markdown",
   "metadata": {},
   "source": [
    "## Wnioski"
   ]
  },
  {
   "cell_type": "markdown",
   "metadata": {},
   "source": [
    "Jak widać różnice nie są znaczące, ale zauważalne. Ze względu na najlepszy wynik wybrano metodę wyboru K najlepszych cech"
   ]
  },
  {
   "cell_type": "code",
   "execution_count": null,
   "metadata": {},
   "outputs": [],
   "source": []
  }
 ],
 "metadata": {
  "kernelspec": {
   "display_name": "Python 3",
   "language": "python",
   "name": "python3"
  },
  "language_info": {
   "codemirror_mode": {
    "name": "ipython",
    "version": 3
   },
   "file_extension": ".py",
   "mimetype": "text/x-python",
   "name": "python",
   "nbconvert_exporter": "python",
   "pygments_lexer": "ipython3",
   "version": "3.6.1"
  }
 },
 "nbformat": 4,
 "nbformat_minor": 4
}
