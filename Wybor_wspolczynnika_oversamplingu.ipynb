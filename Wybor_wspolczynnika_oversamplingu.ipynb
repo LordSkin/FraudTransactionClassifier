{
 "cells": [
  {
   "cell_type": "markdown",
   "metadata": {},
   "source": [
    "# Wybór współczynnika oversamplingu"
   ]
  },
  {
   "cell_type": "markdown",
   "metadata": {},
   "source": [
    "## Pobranie danych z pliku"
   ]
  },
  {
   "cell_type": "code",
   "execution_count": 34,
   "metadata": {},
   "outputs": [],
   "source": [
    "import numpy as np\n",
    "\n",
    "file_name = \"creditcard.csv\"\n",
    "file = open(file_name)\n",
    "file.readline()  # skip the header\n",
    "data = np.loadtxt(file, delimiter=',')"
   ]
  },
  {
   "cell_type": "markdown",
   "metadata": {},
   "source": [
    "## Wydzielenie zbiorów"
   ]
  },
  {
   "cell_type": "code",
   "execution_count": 35,
   "metadata": {},
   "outputs": [],
   "source": [
    "from sklearn.model_selection import train_test_split\n",
    "\n",
    "X_train, X_test, Y_train, Y_test = train_test_split(data[:, :30], data[:, 30:], random_state=0)\n",
    "Y_train = Y_train.astype(int)\n",
    "Y_test = Y_test.astype(int)"
   ]
  },
  {
   "cell_type": "markdown",
   "metadata": {},
   "source": [
    "## Inicjacja struktur do testów"
   ]
  },
  {
   "cell_type": "code",
   "execution_count": 36,
   "metadata": {},
   "outputs": [],
   "source": [
    "scores_false_negative = []\n",
    "scores_false_positive = []\n",
    "n_params = []"
   ]
  },
  {
   "cell_type": "markdown",
   "metadata": {},
   "source": [
    "## Wybór współczynnika oversamplingu"
   ]
  },
  {
   "cell_type": "markdown",
   "metadata": {},
   "source": [
    "### n = 0.5 (domyślnie)"
   ]
  },
  {
   "cell_type": "code",
   "execution_count": 37,
   "metadata": {},
   "outputs": [
    {
     "name": "stderr",
     "output_type": "stream",
     "text": [
      "c:\\program files\\python36\\lib\\site-packages\\sklearn\\utils\\validation.py:760: DataConversionWarning: A column-vector y was passed when a 1d array was expected. Please change the shape of y to (n_samples, ), for example using ravel().\n",
      "  y = column_or_1d(y, warn=True)\n"
     ]
    },
    {
     "name": "stdout",
     "output_type": "stream",
     "text": [
      "[[71061    21]\n",
      " [   21    99]]\n",
      "(319849, 30)\n",
      "(213605, 30)\n",
      "106616\n",
      "[372]\n"
     ]
    }
   ],
   "source": [
    "from imblearn.over_sampling import SMOTE\n",
    "from sklearn.pipeline import make_pipeline\n",
    "from sklearn.neural_network import MLPClassifier\n",
    "from sklearn.preprocessing import StandardScaler\n",
    "from sklearn.metrics import confusion_matrix\n",
    "\n",
    "X_train_curr, Y_train_curr = SMOTE(sampling_strategy=0.5).fit_resample(X_train, Y_train)\n",
    "\n",
    "pipeline = make_pipeline(StandardScaler(), MLPClassifier())\n",
    "pipeline.fit(X_train_curr, Y_train_curr)\n",
    "cm = confusion_matrix(Y_test, pipeline.predict(X_test))\n",
    "scores_false_negative.append(cm[1,0])\n",
    "scores_false_positive.append(cm[0,1])\n",
    "print(cm)\n",
    "n_params.append(\"0.5\")\n",
    "\n",
    "print(X_train_curr.shape)\n",
    "print(X_train.shape)\n",
    "print(sum(Y_train_curr))\n",
    "print(sum(Y_train))"
   ]
  },
  {
   "cell_type": "markdown",
   "metadata": {},
   "source": [
    "### n = 0.4"
   ]
  },
  {
   "cell_type": "code",
   "execution_count": 38,
   "metadata": {},
   "outputs": [
    {
     "name": "stderr",
     "output_type": "stream",
     "text": [
      "c:\\program files\\python36\\lib\\site-packages\\sklearn\\utils\\validation.py:760: DataConversionWarning: A column-vector y was passed when a 1d array was expected. Please change the shape of y to (n_samples, ), for example using ravel().\n",
      "  y = column_or_1d(y, warn=True)\n"
     ]
    },
    {
     "name": "stdout",
     "output_type": "stream",
     "text": [
      "[[71051    31]\n",
      " [   25    95]]\n",
      "(298526, 30)\n",
      "(213605, 30)\n",
      "85293\n",
      "[372]\n"
     ]
    }
   ],
   "source": [
    "X_train_curr, Y_train_curr = SMOTE(sampling_strategy=0.4).fit_resample(X_train, Y_train)\n",
    "\n",
    "pipeline = make_pipeline(StandardScaler(), MLPClassifier())\n",
    "pipeline.fit(X_train_curr, Y_train_curr)\n",
    "cm = confusion_matrix(Y_test, pipeline.predict(X_test))\n",
    "scores_false_negative.append(cm[1,0])\n",
    "scores_false_positive.append(cm[0,1])\n",
    "print(cm)\n",
    "n_params.append(\"0.4\")\n",
    "\n",
    "print(X_train_curr.shape)\n",
    "print(X_train.shape)\n",
    "print(sum(Y_train_curr))\n",
    "print(sum(Y_train))"
   ]
  },
  {
   "cell_type": "markdown",
   "metadata": {},
   "source": [
    "### n = 0.65"
   ]
  },
  {
   "cell_type": "code",
   "execution_count": 39,
   "metadata": {},
   "outputs": [
    {
     "name": "stderr",
     "output_type": "stream",
     "text": [
      "c:\\program files\\python36\\lib\\site-packages\\sklearn\\utils\\validation.py:760: DataConversionWarning: A column-vector y was passed when a 1d array was expected. Please change the shape of y to (n_samples, ), for example using ravel().\n",
      "  y = column_or_1d(y, warn=True)\n"
     ]
    },
    {
     "name": "stdout",
     "output_type": "stream",
     "text": [
      "[[71054    28]\n",
      " [   23    97]]\n"
     ]
    }
   ],
   "source": [
    "X_train_curr, Y_train_curr = SMOTE(sampling_strategy=0.65).fit_resample(X_train, Y_train)\n",
    "\n",
    "pipeline = make_pipeline(StandardScaler(), MLPClassifier())\n",
    "pipeline.fit(X_train_curr, Y_train_curr)\n",
    "cm = confusion_matrix(Y_test, pipeline.predict(X_test))\n",
    "scores_false_negative.append(cm[1,0])\n",
    "scores_false_positive.append(cm[0,1])\n",
    "print(cm)\n",
    "n_params.append(\"0.65\")"
   ]
  },
  {
   "cell_type": "markdown",
   "metadata": {},
   "source": [
    "### n = 0.75"
   ]
  },
  {
   "cell_type": "code",
   "execution_count": 40,
   "metadata": {},
   "outputs": [
    {
     "name": "stderr",
     "output_type": "stream",
     "text": [
      "c:\\program files\\python36\\lib\\site-packages\\sklearn\\utils\\validation.py:760: DataConversionWarning: A column-vector y was passed when a 1d array was expected. Please change the shape of y to (n_samples, ), for example using ravel().\n",
      "  y = column_or_1d(y, warn=True)\n"
     ]
    },
    {
     "name": "stdout",
     "output_type": "stream",
     "text": [
      "[[71067    15]\n",
      " [   23    97]]\n"
     ]
    }
   ],
   "source": [
    "X_train_curr, Y_train_curr = SMOTE(sampling_strategy=0.75).fit_resample(X_train, Y_train)\n",
    "\n",
    "pipeline = make_pipeline(StandardScaler(), MLPClassifier())\n",
    "pipeline.fit(X_train_curr, Y_train_curr)\n",
    "cm = confusion_matrix(Y_test, pipeline.predict(X_test))\n",
    "scores_false_negative.append(cm[1,0])\n",
    "scores_false_positive.append(cm[0,1])\n",
    "print(cm)\n",
    "n_params.append(\"0.75\")"
   ]
  },
  {
   "cell_type": "markdown",
   "metadata": {},
   "source": [
    "### n = 0.85"
   ]
  },
  {
   "cell_type": "code",
   "execution_count": 41,
   "metadata": {},
   "outputs": [
    {
     "name": "stderr",
     "output_type": "stream",
     "text": [
      "c:\\program files\\python36\\lib\\site-packages\\sklearn\\utils\\validation.py:760: DataConversionWarning: A column-vector y was passed when a 1d array was expected. Please change the shape of y to (n_samples, ), for example using ravel().\n",
      "  y = column_or_1d(y, warn=True)\n"
     ]
    },
    {
     "name": "stdout",
     "output_type": "stream",
     "text": [
      "[[71068    14]\n",
      " [   20   100]]\n"
     ]
    }
   ],
   "source": [
    "X_train_curr, Y_train_curr = SMOTE(sampling_strategy=0.85).fit_resample(X_train, Y_train)\n",
    "\n",
    "pipeline = make_pipeline(StandardScaler(), MLPClassifier())\n",
    "pipeline.fit(X_train_curr, Y_train_curr)\n",
    "cm = confusion_matrix(Y_test, pipeline.predict(X_test))\n",
    "scores_false_negative.append(cm[1,0])\n",
    "scores_false_positive.append(cm[0,1])\n",
    "print(cm)\n",
    "n_params.append(\"0.85\")"
   ]
  },
  {
   "cell_type": "markdown",
   "metadata": {},
   "source": [
    "### n = 0.9"
   ]
  },
  {
   "cell_type": "code",
   "execution_count": 42,
   "metadata": {},
   "outputs": [
    {
     "name": "stderr",
     "output_type": "stream",
     "text": [
      "c:\\program files\\python36\\lib\\site-packages\\sklearn\\utils\\validation.py:760: DataConversionWarning: A column-vector y was passed when a 1d array was expected. Please change the shape of y to (n_samples, ), for example using ravel().\n",
      "  y = column_or_1d(y, warn=True)\n"
     ]
    },
    {
     "name": "stdout",
     "output_type": "stream",
     "text": [
      "[[71064    18]\n",
      " [   27    93]]\n"
     ]
    }
   ],
   "source": [
    "X_train_curr, Y_train_curr = SMOTE(sampling_strategy=0.9).fit_resample(X_train, Y_train)\n",
    "\n",
    "pipeline = make_pipeline(StandardScaler(), MLPClassifier())\n",
    "pipeline.fit(X_train_curr, Y_train_curr)\n",
    "cm = confusion_matrix(Y_test, pipeline.predict(X_test))\n",
    "scores_false_negative.append(cm[1,0])\n",
    "scores_false_positive.append(cm[0,1])\n",
    "print(cm)\n",
    "n_params.append(\"0.9\")"
   ]
  },
  {
   "cell_type": "markdown",
   "metadata": {},
   "source": [
    "### n = 0.95"
   ]
  },
  {
   "cell_type": "code",
   "execution_count": 43,
   "metadata": {},
   "outputs": [
    {
     "name": "stderr",
     "output_type": "stream",
     "text": [
      "c:\\program files\\python36\\lib\\site-packages\\sklearn\\utils\\validation.py:760: DataConversionWarning: A column-vector y was passed when a 1d array was expected. Please change the shape of y to (n_samples, ), for example using ravel().\n",
      "  y = column_or_1d(y, warn=True)\n"
     ]
    },
    {
     "name": "stdout",
     "output_type": "stream",
     "text": [
      "[[71049    33]\n",
      " [   25    95]]\n",
      "(415804, 30)\n",
      "(213605, 30)\n",
      "202571\n",
      "[372]\n"
     ]
    }
   ],
   "source": [
    "X_train_curr, Y_train_curr = SMOTE(sampling_strategy=0.95).fit_resample(X_train, Y_train)\n",
    "\n",
    "pipeline = make_pipeline(StandardScaler(), MLPClassifier())\n",
    "pipeline.fit(X_train_curr, Y_train_curr)\n",
    "cm = confusion_matrix(Y_test, pipeline.predict(X_test))\n",
    "scores_false_negative.append(cm[1,0])\n",
    "scores_false_positive.append(cm[0,1])\n",
    "print(cm)\n",
    "n_params.append(\"0.95\")\n",
    "\n",
    "print(X_train_curr.shape)\n",
    "print(X_train.shape)\n",
    "print(sum(Y_train_curr))\n",
    "print(sum(Y_train))"
   ]
  },
  {
   "cell_type": "markdown",
   "metadata": {},
   "source": [
    "### n = 0.99"
   ]
  },
  {
   "cell_type": "code",
   "execution_count": 44,
   "metadata": {},
   "outputs": [
    {
     "name": "stderr",
     "output_type": "stream",
     "text": [
      "c:\\program files\\python36\\lib\\site-packages\\sklearn\\utils\\validation.py:760: DataConversionWarning: A column-vector y was passed when a 1d array was expected. Please change the shape of y to (n_samples, ), for example using ravel().\n",
      "  y = column_or_1d(y, warn=True)\n"
     ]
    },
    {
     "name": "stdout",
     "output_type": "stream",
     "text": [
      "[[71058    24]\n",
      " [   21    99]]\n",
      "(424333, 30)\n",
      "(213605, 30)\n",
      "211100\n",
      "[372]\n"
     ]
    }
   ],
   "source": [
    "X_train_curr, Y_train_curr = SMOTE(sampling_strategy=0.99).fit_resample(X_train, Y_train)\n",
    "\n",
    "pipeline = make_pipeline(StandardScaler(), MLPClassifier())\n",
    "pipeline.fit(X_train_curr, Y_train_curr)\n",
    "cm = confusion_matrix(Y_test, pipeline.predict(X_test))\n",
    "scores_false_negative.append(cm[1,0])\n",
    "scores_false_positive.append(cm[0,1])\n",
    "print(cm)\n",
    "n_params.append(\"0.99\")\n",
    "\n",
    "print(X_train_curr.shape)\n",
    "print(X_train.shape)\n",
    "print(sum(Y_train_curr))\n",
    "print(sum(Y_train))"
   ]
  },
  {
   "cell_type": "markdown",
   "metadata": {},
   "source": [
    "### n = 0.999"
   ]
  },
  {
   "cell_type": "code",
   "execution_count": 47,
   "metadata": {},
   "outputs": [
    {
     "name": "stderr",
     "output_type": "stream",
     "text": [
      "c:\\program files\\python36\\lib\\site-packages\\sklearn\\utils\\validation.py:760: DataConversionWarning: A column-vector y was passed when a 1d array was expected. Please change the shape of y to (n_samples, ), for example using ravel().\n",
      "  y = column_or_1d(y, warn=True)\n"
     ]
    },
    {
     "name": "stdout",
     "output_type": "stream",
     "text": [
      "[[71058    24]\n",
      " [   23    97]]\n"
     ]
    }
   ],
   "source": [
    "X_train_curr, Y_train_curr = SMOTE(sampling_strategy=0.999).fit_resample(X_train, Y_train)\n",
    "\n",
    "pipeline = make_pipeline(StandardScaler(), MLPClassifier())\n",
    "pipeline.fit(X_train_curr, Y_train_curr)\n",
    "cm = confusion_matrix(Y_test, pipeline.predict(X_test))\n",
    "scores_false_negative.append(cm[1,0])\n",
    "scores_false_positive.append(cm[0,1])\n",
    "print(cm)\n",
    "n_params.append(\"0.999\")"
   ]
  },
  {
   "cell_type": "markdown",
   "metadata": {},
   "source": [
    "## Wyniki"
   ]
  },
  {
   "cell_type": "markdown",
   "metadata": {},
   "source": [
    "### False negative"
   ]
  },
  {
   "cell_type": "code",
   "execution_count": 48,
   "metadata": {},
   "outputs": [
    {
     "data": {
      "image/png": "[encoded data removed]",
      "text/plain": [
       "<Figure size 432x288 with 1 Axes>"
      ]
     },
     "metadata": {
      "needs_background": "light"
     },
     "output_type": "display_data"
    }
   ],
   "source": [
    "import matplotlib.pyplot as plt\n",
    "\n",
    "plt.bar(np.arange(len(n_params)), scores_false_negative, align='center', alpha=0.5)\n",
    "plt.xticks(np.arange(len(n_params)), n_params, rotation = 60)\n",
    "plt.ylabel('False negative')\n",
    "plt.title('współczynnik oversamplingu')\n",
    "\n",
    "plt.show()"
   ]
  },
  {
   "cell_type": "markdown",
   "metadata": {},
   "source": [
    "### False positive"
   ]
  },
  {
   "cell_type": "code",
   "execution_count": 49,
   "metadata": {},
   "outputs": [
    {
     "data": {
      "image/png": "[encoded data removed]",
      "text/plain": [
       "<Figure size 432x288 with 1 Axes>"
      ]
     },
     "metadata": {
      "needs_background": "light"
     },
     "output_type": "display_data"
    }
   ],
   "source": [
    "plt.bar(np.arange(len(n_params)), scores_false_positive, align='center', alpha=0.5)\n",
    "plt.xticks(np.arange(len(n_params)), n_params, rotation = 60)\n",
    "plt.ylabel('False positive')\n",
    "plt.title('współczynnik oversamplingu')\n",
    "\n",
    "plt.show()"
   ]
  },
  {
   "cell_type": "markdown",
   "metadata": {},
   "source": [
    "## Wnioski"
   ]
  },
  {
   "cell_type": "markdown",
   "metadata": {},
   "source": [
    "Z powyższych danych nie wynika żadna widoczna tendencja, jest to bardzo dziwne, biorąc pod uwagę fakt, że klasy sąskrajnie niezbalansowane. Do dalszych badań wybrano najlepszy wynik n = 85"
   ]
  },
  {
   "cell_type": "code",
   "execution_count": null,
   "metadata": {},
   "outputs": [],
   "source": []
  }
 ],
 "metadata": {
  "kernelspec": {
   "display_name": "Python 3",
   "language": "python",
   "name": "python3"
  },
  "language_info": {
   "codemirror_mode": {
    "name": "ipython",
    "version": 3
   },
   "file_extension": ".py",
   "mimetype": "text/x-python",
   "name": "python",
   "nbconvert_exporter": "python",
   "pygments_lexer": "ipython3",
   "version": "3.6.1"
  }
 },
 "nbformat": 4,
 "nbformat_minor": 4
}
