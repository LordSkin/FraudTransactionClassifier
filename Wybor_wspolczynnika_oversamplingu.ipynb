{
 "cells": [
  {
   "cell_type": "markdown",
   "metadata": {},
   "source": [
    "# Wybór współczynnika oversamplingu"
   ]
  },
  {
   "cell_type": "markdown",
   "metadata": {},
   "source": [
    "## Pobranie danych z pliku"
   ]
  },
  {
   "cell_type": "code",
   "execution_count": 34,
   "metadata": {},
   "outputs": [],
   "source": [
    "import numpy as np\n",
    "\n",
    "file_name = \"creditcard.csv\"\n",
    "file = open(file_name)\n",
    "file.readline()  # skip the header\n",
    "data = np.loadtxt(file, delimiter=',')"
   ]
  },
  {
   "cell_type": "markdown",
   "metadata": {},
   "source": [
    "## Wydzielenie zbiorów"
   ]
  },
  {
   "cell_type": "code",
   "execution_count": 35,
   "metadata": {},
   "outputs": [],
   "source": [
    "from sklearn.model_selection import train_test_split\n",
    "\n",
    "X_train, X_test, Y_train, Y_test = train_test_split(data[:, :30], data[:, 30:], random_state=0)\n",
    "Y_train = Y_train.astype(int)\n",
    "Y_test = Y_test.astype(int)"
   ]
  },
  {
   "cell_type": "markdown",
   "metadata": {},
   "source": [
    "## Inicjacja struktur do testów"
   ]
  },
  {
   "cell_type": "code",
   "execution_count": 36,
   "metadata": {},
   "outputs": [],
   "source": [
    "scores_false_negative = []\n",
    "scores_false_positive = []\n",
    "n_params = []"
   ]
  },
  {
   "cell_type": "markdown",
   "metadata": {},
   "source": [
    "## Wybór współczynnika oversamplingu"
   ]
  },
  {
   "cell_type": "markdown",
   "metadata": {},
   "source": [
    "### n = 0.5 (domyślnie)"
   ]
  },
  {
   "cell_type": "code",
   "execution_count": 37,
   "metadata": {},
   "outputs": [
    {
     "name": "stderr",
     "output_type": "stream",
     "text": [
      "c:\\program files\\python36\\lib\\site-packages\\sklearn\\utils\\validation.py:760: DataConversionWarning: A column-vector y was passed when a 1d array was expected. Please change the shape of y to (n_samples, ), for example using ravel().\n",
      "  y = column_or_1d(y, warn=True)\n"
     ]
    },
    {
     "name": "stdout",
     "output_type": "stream",
     "text": [
      "[[71061    21]\n",
      " [   21    99]]\n",
      "(319849, 30)\n",
      "(213605, 30)\n",
      "106616\n",
      "[372]\n"
     ]
    }
   ],
   "source": [
    "from imblearn.over_sampling import SMOTE\n",
    "from sklearn.pipeline import make_pipeline\n",
    "from sklearn.neural_network import MLPClassifier\n",
    "from sklearn.preprocessing import StandardScaler\n",
    "from sklearn.metrics import confusion_matrix\n",
    "\n",
    "X_train_curr, Y_train_curr = SMOTE(sampling_strategy=0.5).fit_resample(X_train, Y_train)\n",
    "\n",
    "pipeline = make_pipeline(StandardScaler(), MLPClassifier())\n",
    "pipeline.fit(X_train_curr, Y_train_curr)\n",
    "cm = confusion_matrix(Y_test, pipeline.predict(X_test))\n",
    "scores_false_negative.append(cm[1,0])\n",
    "scores_false_positive.append(cm[0,1])\n",
    "print(cm)\n",
    "n_params.append(\"0.5\")\n",
    "\n",
    "print(X_train_curr.shape)\n",
    "print(X_train.shape)\n",
    "print(sum(Y_train_curr))\n",
    "print(sum(Y_train))"
   ]
  },
  {
   "cell_type": "markdown",
   "metadata": {},
   "source": [
    "### n = 0.4"
   ]
  },
  {
   "cell_type": "code",
   "execution_count": null,
   "metadata": {},
   "outputs": [
    {
     "name": "stderr",
     "output_type": "stream",
     "text": [
      "c:\\program files\\python36\\lib\\site-packages\\sklearn\\utils\\validation.py:760: DataConversionWarning: A column-vector y was passed when a 1d array was expected. Please change the shape of y to (n_samples, ), for example using ravel().\n",
      "  y = column_or_1d(y, warn=True)\n"
     ]
    }
   ],
   "source": [
    "X_train_curr, Y_train_curr = SMOTE(sampling_strategy=0.4).fit_resample(X_train, Y_train)\n",
    "\n",
    "pipeline = make_pipeline(StandardScaler(), MLPClassifier())\n",
    "pipeline.fit(X_train_curr, Y_train_curr)\n",
    "cm = confusion_matrix(Y_test, pipeline.predict(X_test))\n",
    "scores_false_negative.append(cm[1,0])\n",
    "scores_false_positive.append(cm[0,1])\n",
    "print(cm)\n",
    "n_params.append(\"0.4\")\n",
    "\n",
    "print(X_train_curr.shape)\n",
    "print(X_train.shape)\n",
    "print(sum(Y_train_curr))\n",
    "print(sum(Y_train))"
   ]
  },
  {
   "cell_type": "markdown",
   "metadata": {},
   "source": [
    "### n = 0.65"
   ]
  },
  {
   "cell_type": "code",
   "execution_count": null,
   "metadata": {},
   "outputs": [],
   "source": [
    "X_train_curr, Y_train_curr = SMOTE(sampling_strategy=0.65).fit_resample(X_train, Y_train)\n",
    "\n",
    "pipeline = make_pipeline(StandardScaler(), MLPClassifier())\n",
    "pipeline.fit(X_train_curr, Y_train_curr)\n",
    "cm = confusion_matrix(Y_test, pipeline.predict(X_test))\n",
    "scores_false_negative.append(cm[1,0])\n",
    "scores_false_positive.append(cm[0,1])\n",
    "print(cm)\n",
    "n_params.append(\"0.65\")"
   ]
  },
  {
   "cell_type": "markdown",
   "metadata": {},
   "source": [
    "### n = 0.75"
   ]
  },
  {
   "cell_type": "code",
   "execution_count": null,
   "metadata": {},
   "outputs": [],
   "source": [
    "X_train_curr, Y_train_curr = SMOTE(sampling_strategy=0.75).fit_resample(X_train, Y_train)\n",
    "\n",
    "pipeline = make_pipeline(StandardScaler(), MLPClassifier())\n",
    "pipeline.fit(X_train_curr, Y_train_curr)\n",
    "cm = confusion_matrix(Y_test, pipeline.predict(X_test))\n",
    "scores_false_negative.append(cm[1,0])\n",
    "scores_false_positive.append(cm[0,1])\n",
    "print(cm)\n",
    "n_params.append(\"0.75\")"
   ]
  },
  {
   "cell_type": "markdown",
   "metadata": {},
   "source": [
    "### n = 0.85"
   ]
  },
  {
   "cell_type": "code",
   "execution_count": null,
   "metadata": {},
   "outputs": [],
   "source": [
    "X_train_curr, Y_train_curr = SMOTE(sampling_strategy=0.85).fit_resample(X_train, Y_train)\n",
    "\n",
    "pipeline = make_pipeline(StandardScaler(), MLPClassifier())\n",
    "pipeline.fit(X_train_curr, Y_train_curr)\n",
    "cm = confusion_matrix(Y_test, pipeline.predict(X_test))\n",
    "scores_false_negative.append(cm[1,0])\n",
    "scores_false_positive.append(cm[0,1])\n",
    "print(cm)\n",
    "n_params.append(\"0.85\")"
   ]
  },
  {
   "cell_type": "markdown",
   "metadata": {},
   "source": [
    "### n = 0.9"
   ]
  },
  {
   "cell_type": "code",
   "execution_count": null,
   "metadata": {},
   "outputs": [],
   "source": [
    "X_train_curr, Y_train_curr = SMOTE(sampling_strategy=0.9).fit_resample(X_train, Y_train)\n",
    "\n",
    "pipeline = make_pipeline(StandardScaler(), MLPClassifier())\n",
    "pipeline.fit(X_train_curr, Y_train_curr)\n",
    "cm = confusion_matrix(Y_test, pipeline.predict(X_test))\n",
    "scores_false_negative.append(cm[1,0])\n",
    "scores_false_positive.append(cm[0,1])\n",
    "print(cm)\n",
    "n_params.append(\"0.9\")"
   ]
  },
  {
   "cell_type": "markdown",
   "metadata": {},
   "source": [
    "### n = 0.95"
   ]
  },
  {
   "cell_type": "code",
   "execution_count": null,
   "metadata": {},
   "outputs": [],
   "source": [
    "X_train_curr, Y_train_curr = SMOTE(sampling_strategy=0.95).fit_resample(X_train, Y_train)\n",
    "\n",
    "pipeline = make_pipeline(StandardScaler(), MLPClassifier())\n",
    "pipeline.fit(X_train_curr, Y_train_curr)\n",
    "cm = confusion_matrix(Y_test, pipeline.predict(X_test))\n",
    "scores_false_negative.append(cm[1,0])\n",
    "scores_false_positive.append(cm[0,1])\n",
    "print(cm)\n",
    "n_params.append(\"0.95\")\n",
    "\n",
    "print(X_train_curr.shape)\n",
    "print(X_train.shape)\n",
    "print(sum(Y_train_curr))\n",
    "print(sum(Y_train))"
   ]
  },
  {
   "cell_type": "markdown",
   "metadata": {},
   "source": [
    "### n = 0.99"
   ]
  },
  {
   "cell_type": "code",
   "execution_count": null,
   "metadata": {},
   "outputs": [],
   "source": [
    "X_train_curr, Y_train_curr = SMOTE(sampling_strategy=0.99).fit_resample(X_train, Y_train)\n",
    "\n",
    "pipeline = make_pipeline(StandardScaler(), MLPClassifier())\n",
    "pipeline.fit(X_train_curr, Y_train_curr)\n",
    "cm = confusion_matrix(Y_test, pipeline.predict(X_test))\n",
    "scores_false_negative.append(cm[1,0])\n",
    "scores_false_positive.append(cm[0,1])\n",
    "print(cm)\n",
    "n_params.append(\"0.99\")\n",
    "\n",
    "print(X_train_curr.shape)\n",
    "print(X_train.shape)\n",
    "print(sum(Y_train_curr))\n",
    "print(sum(Y_train))"
   ]
  },
  {
   "cell_type": "markdown",
   "metadata": {},
   "source": [
    "## Wyniki"
   ]
  },
  {
   "cell_type": "markdown",
   "metadata": {},
   "source": [
    "### False negative"
   ]
  },
  {
   "cell_type": "code",
   "execution_count": null,
   "metadata": {},
   "outputs": [],
   "source": [
    "import matplotlib.pyplot as plt\n",
    "\n",
    "plt.bar(np.arange(len(n_params)), scores_false_negative, align='center', alpha=0.5)\n",
    "plt.xticks(np.arange(len(n_params)), n_params, rotation = 60)\n",
    "plt.ylabel('False negative')\n",
    "plt.title('współczynnik oversamplingu')\n",
    "\n",
    "plt.show()"
   ]
  },
  {
   "cell_type": "markdown",
   "metadata": {},
   "source": [
    "### False positive"
   ]
  },
  {
   "cell_type": "code",
   "execution_count": null,
   "metadata": {},
   "outputs": [],
   "source": [
    "plt.bar(np.arange(len(n_params)), scores_false_positive, align='center', alpha=0.5)\n",
    "plt.xticks(np.arange(len(n_params)), n_params, rotation = 60)\n",
    "plt.ylabel('False positive')\n",
    "plt.title('współczynnik oversamplingu')\n",
    "\n",
    "plt.show()"
   ]
  }
 ],
 "metadata": {
  "kernelspec": {
   "display_name": "Python 3",
   "language": "python",
   "name": "python3"
  },
  "language_info": {
   "codemirror_mode": {
    "name": "ipython",
    "version": 3
   },
   "file_extension": ".py",
   "mimetype": "text/x-python",
   "name": "python",
   "nbconvert_exporter": "python",
   "pygments_lexer": "ipython3",
   "version": "3.6.1"
  }
 },
 "nbformat": 4,
 "nbformat_minor": 4
}
