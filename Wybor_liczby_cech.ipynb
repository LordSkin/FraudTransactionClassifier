{
 "cells": [
  {
   "cell_type": "markdown",
   "metadata": {},
   "source": [
    "# Wybór liczby cech"
   ]
  },
  {
   "cell_type": "markdown",
   "metadata": {},
   "source": [
    "## Pobranie danych z pliku"
   ]
  },
  {
   "cell_type": "code",
   "execution_count": 19,
   "metadata": {},
   "outputs": [],
   "source": [
    "import numpy as np\n",
    "\n",
    "file_name = \"creditcard.csv\"\n",
    "file = open(file_name)\n",
    "file.readline()  # skip the header\n",
    "data = np.loadtxt(file, delimiter=',')"
   ]
  },
  {
   "cell_type": "markdown",
   "metadata": {},
   "source": [
    "## Wydzielenie zbiorów"
   ]
  },
  {
   "cell_type": "code",
   "execution_count": 20,
   "metadata": {},
   "outputs": [],
   "source": [
    "from sklearn.model_selection import train_test_split\n",
    "\n",
    "X_train, X_test, Y_train, Y_test = train_test_split(data[:, :30], data[:, 30:], random_state=0)\n",
    "Y_train = Y_train.astype(int)\n",
    "Y_test = Y_test.astype(int)"
   ]
  },
  {
   "cell_type": "markdown",
   "metadata": {},
   "source": [
    "## Wydzielenie zbiorów"
   ]
  },
  {
   "cell_type": "code",
   "execution_count": 21,
   "metadata": {},
   "outputs": [],
   "source": [
    "from sklearn.model_selection import train_test_split\n",
    "\n",
    "X_train, X_test, Y_train, Y_test = train_test_split(data[:, :30], data[:, 30:], random_state=0)\n",
    "Y_train = Y_train.astype(int)\n",
    "Y_test = Y_test.astype(int)"
   ]
  },
  {
   "cell_type": "markdown",
   "metadata": {},
   "source": [
    "## Inicjacja struktur danych do testów"
   ]
  },
  {
   "cell_type": "code",
   "execution_count": 22,
   "metadata": {},
   "outputs": [],
   "source": [
    "scores_false_negative = []\n",
    "scores_false_positive = []\n",
    "features_count = []\n",
    "times = []"
   ]
  },
  {
   "cell_type": "markdown",
   "metadata": {},
   "source": [
    "## Wybór liczby cech"
   ]
  },
  {
   "cell_type": "markdown",
   "metadata": {},
   "source": [
    "### k = 30 (bez redukcji)"
   ]
  },
  {
   "cell_type": "code",
   "execution_count": 23,
   "metadata": {},
   "outputs": [
    {
     "name": "stderr",
     "output_type": "stream",
     "text": [
      "c:\\program files\\python36\\lib\\site-packages\\sklearn\\utils\\validation.py:760: DataConversionWarning: A column-vector y was passed when a 1d array was expected. Please change the shape of y to (n_samples, ), for example using ravel().\n",
      "  y = column_or_1d(y, warn=True)\n",
      "c:\\program files\\python36\\lib\\site-packages\\sklearn\\neural_network\\_multilayer_perceptron.py:934: DataConversionWarning: A column-vector y was passed when a 1d array was expected. Please change the shape of y to (n_samples, ), for example using ravel().\n",
      "  y = column_or_1d(y, warn=True)\n"
     ]
    },
    {
     "name": "stdout",
     "output_type": "stream",
     "text": [
      "[[71070    12]\n",
      " [   23    97]]\n"
     ]
    }
   ],
   "source": [
    "from sklearn.pipeline import make_pipeline\n",
    "from sklearn.neural_network import MLPClassifier\n",
    "from sklearn.preprocessing import StandardScaler\n",
    "from sklearn.metrics import confusion_matrix\n",
    "import time\n",
    "from sklearn.feature_selection import SelectKBest, f_classif\n",
    "\n",
    "pipeline = make_pipeline(StandardScaler(), SelectKBest(score_func=f_classif, k=30), MLPClassifier(hidden_layer_sizes=(10, )))\n",
    "start = time.time()\n",
    "pipeline.fit(X_train, Y_train)\n",
    "end = time.time()\n",
    "cm = confusion_matrix(Y_test, pipeline.predict(X_test))\n",
    "scores_false_positive.append(cm[0, 1])\n",
    "scores_false_negative.append(cm[1, 0])\n",
    "times.append(end - start)\n",
    "print(cm)\n",
    "features_count.append(\"k = 30\")"
   ]
  },
  {
   "cell_type": "markdown",
   "metadata": {},
   "source": [
    "### k = 25"
   ]
  },
  {
   "cell_type": "code",
   "execution_count": 24,
   "metadata": {},
   "outputs": [
    {
     "name": "stderr",
     "output_type": "stream",
     "text": [
      "c:\\program files\\python36\\lib\\site-packages\\sklearn\\utils\\validation.py:760: DataConversionWarning: A column-vector y was passed when a 1d array was expected. Please change the shape of y to (n_samples, ), for example using ravel().\n",
      "  y = column_or_1d(y, warn=True)\n",
      "c:\\program files\\python36\\lib\\site-packages\\sklearn\\neural_network\\_multilayer_perceptron.py:934: DataConversionWarning: A column-vector y was passed when a 1d array was expected. Please change the shape of y to (n_samples, ), for example using ravel().\n",
      "  y = column_or_1d(y, warn=True)\n"
     ]
    },
    {
     "name": "stdout",
     "output_type": "stream",
     "text": [
      "[[71069    13]\n",
      " [   32    88]]\n"
     ]
    }
   ],
   "source": [
    "pipeline = make_pipeline(StandardScaler(), SelectKBest(score_func=f_classif, k=25), MLPClassifier(hidden_layer_sizes=(10, )))\n",
    "start = time.time()\n",
    "pipeline.fit(X_train, Y_train)\n",
    "end = time.time()\n",
    "cm = confusion_matrix(Y_test, pipeline.predict(X_test))\n",
    "scores_false_positive.append(cm[0, 1])\n",
    "scores_false_negative.append(cm[1, 0])\n",
    "times.append(end - start)\n",
    "print(cm)\n",
    "features_count.append(\"k = 25\")"
   ]
  },
  {
   "cell_type": "markdown",
   "metadata": {},
   "source": [
    "### k = 20"
   ]
  },
  {
   "cell_type": "code",
   "execution_count": 25,
   "metadata": {},
   "outputs": [
    {
     "name": "stderr",
     "output_type": "stream",
     "text": [
      "c:\\program files\\python36\\lib\\site-packages\\sklearn\\utils\\validation.py:760: DataConversionWarning: A column-vector y was passed when a 1d array was expected. Please change the shape of y to (n_samples, ), for example using ravel().\n",
      "  y = column_or_1d(y, warn=True)\n",
      "c:\\program files\\python36\\lib\\site-packages\\sklearn\\neural_network\\_multilayer_perceptron.py:934: DataConversionWarning: A column-vector y was passed when a 1d array was expected. Please change the shape of y to (n_samples, ), for example using ravel().\n",
      "  y = column_or_1d(y, warn=True)\n"
     ]
    },
    {
     "name": "stdout",
     "output_type": "stream",
     "text": [
      "[[71068    14]\n",
      " [   30    90]]\n"
     ]
    }
   ],
   "source": [
    "pipeline = make_pipeline(StandardScaler(), SelectKBest(score_func=f_classif, k=20), MLPClassifier(hidden_layer_sizes=(10, )))\n",
    "start = time.time()\n",
    "pipeline.fit(X_train, Y_train)\n",
    "end = time.time()\n",
    "cm = confusion_matrix(Y_test, pipeline.predict(X_test))\n",
    "scores_false_positive.append(cm[0, 1])\n",
    "scores_false_negative.append(cm[1, 0])\n",
    "times.append(end - start)\n",
    "print(cm)\n",
    "features_count.append(\"k = 20\")"
   ]
  },
  {
   "cell_type": "markdown",
   "metadata": {},
   "source": [
    "### k = 15"
   ]
  },
  {
   "cell_type": "code",
   "execution_count": 26,
   "metadata": {},
   "outputs": [
    {
     "name": "stderr",
     "output_type": "stream",
     "text": [
      "c:\\program files\\python36\\lib\\site-packages\\sklearn\\utils\\validation.py:760: DataConversionWarning: A column-vector y was passed when a 1d array was expected. Please change the shape of y to (n_samples, ), for example using ravel().\n",
      "  y = column_or_1d(y, warn=True)\n",
      "c:\\program files\\python36\\lib\\site-packages\\sklearn\\neural_network\\_multilayer_perceptron.py:934: DataConversionWarning: A column-vector y was passed when a 1d array was expected. Please change the shape of y to (n_samples, ), for example using ravel().\n",
      "  y = column_or_1d(y, warn=True)\n"
     ]
    },
    {
     "name": "stdout",
     "output_type": "stream",
     "text": [
      "[[71069    13]\n",
      " [   26    94]]\n"
     ]
    }
   ],
   "source": [
    "pipeline = make_pipeline(StandardScaler(), SelectKBest(score_func=f_classif, k=15), MLPClassifier(hidden_layer_sizes=(10, )))\n",
    "start = time.time()\n",
    "pipeline.fit(X_train, Y_train)\n",
    "end = time.time()\n",
    "cm = confusion_matrix(Y_test, pipeline.predict(X_test))\n",
    "scores_false_positive.append(cm[0, 1])\n",
    "scores_false_negative.append(cm[1, 0])\n",
    "times.append(end - start)\n",
    "print(cm)\n",
    "features_count.append(\"k = 15\")"
   ]
  },
  {
   "cell_type": "markdown",
   "metadata": {},
   "source": [
    "### k = 10"
   ]
  },
  {
   "cell_type": "code",
   "execution_count": 27,
   "metadata": {},
   "outputs": [
    {
     "name": "stderr",
     "output_type": "stream",
     "text": [
      "c:\\program files\\python36\\lib\\site-packages\\sklearn\\utils\\validation.py:760: DataConversionWarning: A column-vector y was passed when a 1d array was expected. Please change the shape of y to (n_samples, ), for example using ravel().\n",
      "  y = column_or_1d(y, warn=True)\n",
      "c:\\program files\\python36\\lib\\site-packages\\sklearn\\neural_network\\_multilayer_perceptron.py:934: DataConversionWarning: A column-vector y was passed when a 1d array was expected. Please change the shape of y to (n_samples, ), for example using ravel().\n",
      "  y = column_or_1d(y, warn=True)\n"
     ]
    },
    {
     "name": "stdout",
     "output_type": "stream",
     "text": [
      "[[71067    15]\n",
      " [   26    94]]\n"
     ]
    }
   ],
   "source": [
    "pipeline = make_pipeline(StandardScaler(), SelectKBest(score_func=f_classif, k=10), MLPClassifier(hidden_layer_sizes=(10, )))\n",
    "start = time.time()\n",
    "pipeline.fit(X_train, Y_train)\n",
    "end = time.time()\n",
    "cm = confusion_matrix(Y_test, pipeline.predict(X_test))\n",
    "scores_false_positive.append(cm[0, 1])\n",
    "scores_false_negative.append(cm[1, 0])\n",
    "times.append(end - start)\n",
    "print(cm)\n",
    "features_count.append(\"k = 10\")"
   ]
  },
  {
   "cell_type": "markdown",
   "metadata": {},
   "source": [
    "### k = 5"
   ]
  },
  {
   "cell_type": "code",
   "execution_count": 28,
   "metadata": {},
   "outputs": [
    {
     "name": "stderr",
     "output_type": "stream",
     "text": [
      "c:\\program files\\python36\\lib\\site-packages\\sklearn\\utils\\validation.py:760: DataConversionWarning: A column-vector y was passed when a 1d array was expected. Please change the shape of y to (n_samples, ), for example using ravel().\n",
      "  y = column_or_1d(y, warn=True)\n",
      "c:\\program files\\python36\\lib\\site-packages\\sklearn\\neural_network\\_multilayer_perceptron.py:934: DataConversionWarning: A column-vector y was passed when a 1d array was expected. Please change the shape of y to (n_samples, ), for example using ravel().\n",
      "  y = column_or_1d(y, warn=True)\n"
     ]
    },
    {
     "name": "stdout",
     "output_type": "stream",
     "text": [
      "[[71068    14]\n",
      " [   29    91]]\n"
     ]
    }
   ],
   "source": [
    "pipeline = make_pipeline(StandardScaler(), SelectKBest(score_func=f_classif, k=5), MLPClassifier(hidden_layer_sizes=(10, )))\n",
    "start = time.time()\n",
    "pipeline.fit(X_train, Y_train)\n",
    "end = time.time()\n",
    "cm = confusion_matrix(Y_test, pipeline.predict(X_test))\n",
    "scores_false_positive.append(cm[0, 1])\n",
    "scores_false_negative.append(cm[1, 0])\n",
    "times.append(end - start)\n",
    "print(cm)\n",
    "features_count.append(\"k = 5\")"
   ]
  },
  {
   "cell_type": "markdown",
   "metadata": {},
   "source": [
    "### k = 3"
   ]
  },
  {
   "cell_type": "code",
   "execution_count": 29,
   "metadata": {},
   "outputs": [
    {
     "name": "stderr",
     "output_type": "stream",
     "text": [
      "c:\\program files\\python36\\lib\\site-packages\\sklearn\\utils\\validation.py:760: DataConversionWarning: A column-vector y was passed when a 1d array was expected. Please change the shape of y to (n_samples, ), for example using ravel().\n",
      "  y = column_or_1d(y, warn=True)\n",
      "c:\\program files\\python36\\lib\\site-packages\\sklearn\\neural_network\\_multilayer_perceptron.py:934: DataConversionWarning: A column-vector y was passed when a 1d array was expected. Please change the shape of y to (n_samples, ), for example using ravel().\n",
      "  y = column_or_1d(y, warn=True)\n"
     ]
    },
    {
     "name": "stdout",
     "output_type": "stream",
     "text": [
      "[[71071    11]\n",
      " [   45    75]]\n"
     ]
    }
   ],
   "source": [
    "pipeline = make_pipeline(StandardScaler(), SelectKBest(score_func=f_classif, k=3), MLPClassifier(hidden_layer_sizes=(10, )))\n",
    "start = time.time()\n",
    "pipeline.fit(X_train, Y_train)\n",
    "end = time.time()\n",
    "cm = confusion_matrix(Y_test, pipeline.predict(X_test))\n",
    "scores_false_positive.append(cm[0, 1])\n",
    "scores_false_negative.append(cm[1, 0])\n",
    "times.append(end - start)\n",
    "print(cm)\n",
    "features_count.append(\"k = 3\")"
   ]
  },
  {
   "cell_type": "markdown",
   "metadata": {},
   "source": [
    "### k = 2"
   ]
  },
  {
   "cell_type": "code",
   "execution_count": 30,
   "metadata": {},
   "outputs": [
    {
     "name": "stderr",
     "output_type": "stream",
     "text": [
      "c:\\program files\\python36\\lib\\site-packages\\sklearn\\utils\\validation.py:760: DataConversionWarning: A column-vector y was passed when a 1d array was expected. Please change the shape of y to (n_samples, ), for example using ravel().\n",
      "  y = column_or_1d(y, warn=True)\n",
      "c:\\program files\\python36\\lib\\site-packages\\sklearn\\neural_network\\_multilayer_perceptron.py:934: DataConversionWarning: A column-vector y was passed when a 1d array was expected. Please change the shape of y to (n_samples, ), for example using ravel().\n",
      "  y = column_or_1d(y, warn=True)\n"
     ]
    },
    {
     "name": "stdout",
     "output_type": "stream",
     "text": [
      "[[71068    14]\n",
      " [   38    82]]\n"
     ]
    }
   ],
   "source": [
    "pipeline = make_pipeline(StandardScaler(), SelectKBest(score_func=f_classif, k=2), MLPClassifier(hidden_layer_sizes=(10, )))\n",
    "start = time.time()\n",
    "pipeline.fit(X_train, Y_train)\n",
    "end = time.time()\n",
    "cm = confusion_matrix(Y_test, pipeline.predict(X_test))\n",
    "scores_false_positive.append(cm[0, 1])\n",
    "scores_false_negative.append(cm[1, 0])\n",
    "times.append(end - start)\n",
    "print(cm)\n",
    "features_count.append(\"k = 2\")"
   ]
  },
  {
   "cell_type": "markdown",
   "metadata": {},
   "source": [
    "### k =1"
   ]
  },
  {
   "cell_type": "code",
   "execution_count": 31,
   "metadata": {},
   "outputs": [
    {
     "name": "stderr",
     "output_type": "stream",
     "text": [
      "c:\\program files\\python36\\lib\\site-packages\\sklearn\\utils\\validation.py:760: DataConversionWarning: A column-vector y was passed when a 1d array was expected. Please change the shape of y to (n_samples, ), for example using ravel().\n",
      "  y = column_or_1d(y, warn=True)\n",
      "c:\\program files\\python36\\lib\\site-packages\\sklearn\\neural_network\\_multilayer_perceptron.py:934: DataConversionWarning: A column-vector y was passed when a 1d array was expected. Please change the shape of y to (n_samples, ), for example using ravel().\n",
      "  y = column_or_1d(y, warn=True)\n"
     ]
    },
    {
     "name": "stdout",
     "output_type": "stream",
     "text": [
      "[[71068    14]\n",
      " [   59    61]]\n"
     ]
    }
   ],
   "source": [
    "pipeline = make_pipeline(StandardScaler(), SelectKBest(score_func=f_classif, k=1), MLPClassifier(hidden_layer_sizes=(10, )))\n",
    "start = time.time()\n",
    "pipeline.fit(X_train, Y_train)\n",
    "end = time.time()\n",
    "cm = confusion_matrix(Y_test, pipeline.predict(X_test))\n",
    "scores_false_positive.append(cm[0, 1])\n",
    "scores_false_negative.append(cm[1, 0])\n",
    "times.append(end - start)\n",
    "print(cm)\n",
    "features_count.append(\"k = 1\")"
   ]
  },
  {
   "cell_type": "markdown",
   "metadata": {},
   "source": [
    "## Wyniki"
   ]
  },
  {
   "cell_type": "markdown",
   "metadata": {},
   "source": [
    "### False negative"
   ]
  },
  {
   "cell_type": "code",
   "execution_count": 32,
   "metadata": {},
   "outputs": [
    {
     "data": {
      "image/png": "[encoded data removed]",
      "text/plain": [
       "<Figure size 432x288 with 1 Axes>"
      ]
     },
     "metadata": {
      "needs_background": "light"
     },
     "output_type": "display_data"
    }
   ],
   "source": [
    "import matplotlib.pyplot as plt\n",
    "\n",
    "plt.bar(np.arange(len(features_count)), scores_false_negative, align='center', alpha=0.5)\n",
    "plt.xticks(np.arange(len(features_count)), features_count, rotation = 60)\n",
    "plt.ylabel('Liczba cech')\n",
    "plt.title('False negative')\n",
    "\n",
    "plt.show()"
   ]
  },
  {
   "cell_type": "markdown",
   "metadata": {},
   "source": [
    "### False positive"
   ]
  },
  {
   "cell_type": "code",
   "execution_count": 33,
   "metadata": {},
   "outputs": [
    {
     "data": {
      "image/png": "[encoded data removed]",
      "text/plain": [
       "<Figure size 432x288 with 1 Axes>"
      ]
     },
     "metadata": {
      "needs_background": "light"
     },
     "output_type": "display_data"
    }
   ],
   "source": [
    "plt.bar(np.arange(len(features_count)), scores_false_positive, align='center', alpha=0.5)\n",
    "plt.xticks(np.arange(len(features_count)), features_count, rotation = 60)\n",
    "plt.ylabel('Liczba cech')\n",
    "plt.title('False positive')\n",
    "\n",
    "plt.show()"
   ]
  },
  {
   "cell_type": "markdown",
   "metadata": {},
   "source": [
    "### Czas uczenia"
   ]
  },
  {
   "cell_type": "code",
   "execution_count": 34,
   "metadata": {},
   "outputs": [
    {
     "data": {
      "image/png": "[encoded data removed]",
      "text/plain": [
       "<Figure size 432x288 with 1 Axes>"
      ]
     },
     "metadata": {
      "needs_background": "light"
     },
     "output_type": "display_data"
    }
   ],
   "source": [
    "plt.bar(np.arange(len(features_count)), times, align='center', alpha=0.5)\n",
    "plt.xticks(np.arange(len(features_count)), features_count, rotation = 60)\n",
    "plt.ylabel('Liczba cech')\n",
    "plt.title('Czas uczenia')\n",
    "\n",
    "plt.show()"
   ]
  }
 ],
 "metadata": {
  "kernelspec": {
   "display_name": "Python 3",
   "language": "python",
   "name": "python3"
  },
  "language_info": {
   "codemirror_mode": {
    "name": "ipython",
    "version": 3
   },
   "file_extension": ".py",
   "mimetype": "text/x-python",
   "name": "python",
   "nbconvert_exporter": "python",
   "pygments_lexer": "ipython3",
   "version": "3.6.1"
  }
 },
 "nbformat": 4,
 "nbformat_minor": 4
}
