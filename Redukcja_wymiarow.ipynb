{
 "cells": [
  {
   "cell_type": "markdown",
   "metadata": {},
   "source": [
    "## Pobranie danych z pliku"
   ]
  },
  {
   "cell_type": "code",
   "execution_count": 42,
   "metadata": {},
   "outputs": [],
   "source": [
    "import numpy as np\n",
    "\n",
    "file_name = \"creditcard.csv\"\n",
    "file = open(file_name)\n",
    "file.readline()  # skip the header\n",
    "data = np.loadtxt(file, delimiter=',')"
   ]
  },
  {
   "cell_type": "markdown",
   "metadata": {},
   "source": [
    "## Wydzielenie zbiorów"
   ]
  },
  {
   "cell_type": "code",
   "execution_count": 43,
   "metadata": {},
   "outputs": [],
   "source": [
    "from sklearn.model_selection import train_test_split\n",
    "\n",
    "X_train, X_test, Y_train, Y_test = train_test_split(data[:, :30], data[:, 30:], random_state=0)\n",
    "Y_train = Y_train.astype(int)\n",
    "Y_test = Y_test.astype(int)"
   ]
  },
  {
   "cell_type": "markdown",
   "metadata": {},
   "source": [
    "## Resampling klas"
   ]
  },
  {
   "cell_type": "code",
   "execution_count": 44,
   "metadata": {},
   "outputs": [
    {
     "name": "stderr",
     "output_type": "stream",
     "text": [
      "c:\\program files\\python36\\lib\\site-packages\\sklearn\\utils\\validation.py:760: DataConversionWarning: A column-vector y was passed when a 1d array was expected. Please change the shape of y to (n_samples, ), for example using ravel().\n",
      "  y = column_or_1d(y, warn=True)\n"
     ]
    }
   ],
   "source": [
    "from imblearn.over_sampling import ADASYN\n",
    "\n",
    "X_train, Y_train = ADASYN().fit_resample(X_train, Y_train)"
   ]
  },
  {
   "cell_type": "markdown",
   "metadata": {},
   "source": [
    "## Inicjacja struktur danych do testów"
   ]
  },
  {
   "cell_type": "code",
   "execution_count": 45,
   "metadata": {},
   "outputs": [],
   "source": [
    "scores = []\n",
    "methods = []\n",
    "features_number = []"
   ]
  },
  {
   "cell_type": "markdown",
   "metadata": {},
   "source": [
    "## Wybór metody"
   ]
  },
  {
   "cell_type": "markdown",
   "metadata": {},
   "source": [
    "### PCA"
   ]
  },
  {
   "cell_type": "code",
   "execution_count": 46,
   "metadata": {},
   "outputs": [
    {
     "name": "stdout",
     "output_type": "stream",
     "text": [
      "31959\n"
     ]
    }
   ],
   "source": [
    "from sklearn.pipeline import make_pipeline\n",
    "from sklearn.ensemble import RandomForestClassifier\n",
    "from sklearn.preprocessing import StandardScaler\n",
    "from sklearn.metrics import confusion_matrix\n",
    "from sklearn.decomposition import PCA\n",
    "\n",
    "random_forest = make_pipeline(StandardScaler(), PCA(n_components=15), RandomForestClassifier(n_jobs=-1))\n",
    "random_forest.fit(X_Train_PCA, Y_train)\n",
    "cm = confusion_matrix(Y_test, random_forest.predict(X_test[:,:15]))\n",
    "scores.append(cm[0, 1])\n",
    "print(cm[0, 1])\n",
    "features_number.append(X_Train_PCA.shape[1])\n",
    "methods.append(\"PCA\")"
   ]
  },
  {
   "cell_type": "markdown",
   "metadata": {},
   "source": [
    "### Feature aglomeration"
   ]
  },
  {
   "cell_type": "code",
   "execution_count": 54,
   "metadata": {},
   "outputs": [
    {
     "name": "stdout",
     "output_type": "stream",
     "text": [
      "[[71082     0]\n",
      " [  120     0]]\n"
     ]
    }
   ],
   "source": [
    "from sklearn.pipeline import make_pipeline\n",
    "from sklearn.ensemble import RandomForestClassifier\n",
    "from sklearn.preprocessing import StandardScaler\n",
    "from sklearn.metrics import confusion_matrix\n",
    "from sklearn import datasets, cluster\n",
    "\n",
    "X_Train_FA = cluster.FeatureAgglomeration(n_clusters=15).fit_transform(X_train, Y_train)\n",
    "\n",
    "random_forest = make_pipeline(StandardScaler(), cluster.FeatureAgglomeration(), RandomForestClassifier(n_jobs=-1))\n",
    "random_forest.fit(X_Train_FA, Y_train)\n",
    "cm = confusion_matrix(Y_test, random_forest.predict(X_test[:,:15]))\n",
    "scores.append(cm[0, 1])\n",
    "print(cm)\n",
    "features_number.append(X_Train_FA.shape[1])\n",
    "methods.append(\"Feature Aglomeration\")"
   ]
  },
  {
   "cell_type": "markdown",
   "metadata": {},
   "source": [
    "## Recursive feature elimination "
   ]
  },
  {
   "cell_type": "code",
   "execution_count": 55,
   "metadata": {},
   "outputs": [
    {
     "name": "stdout",
     "output_type": "stream",
     "text": [
      "[[70960   122]\n",
      " [  118     2]]\n"
     ]
    }
   ],
   "source": [
    "from sklearn.pipeline import make_pipeline\n",
    "from sklearn.ensemble import RandomForestClassifier\n",
    "from sklearn.preprocessing import StandardScaler\n",
    "from sklearn.metrics import confusion_matrix\n",
    "from sklearn.feature_selection import RFE\n",
    "from sklearn.svm import SVR\n",
    "\n",
    "X_Train_RFE = RFE(RandomForestClassifier(n_jobs=-1), n_features_to_select=15).fit_transform(X_train, Y_train)\n",
    "\n",
    "random_forest = make_pipeline(StandardScaler(), RandomForestClassifier(n_jobs=-1))\n",
    "random_forest.fit(X_Train_RFE, Y_train)\n",
    "cm = confusion_matrix(Y_test, random_forest.predict(X_test[:,:15]))\n",
    "scores.append(cm[0, 1])\n",
    "print(cm)\n",
    "features_number.append(X_Train_RFE.shape[1])\n",
    "methods.append(\"RFE\")"
   ]
  },
  {
   "cell_type": "markdown",
   "metadata": {},
   "source": [
    "###  Gaussian random projection"
   ]
  },
  {
   "cell_type": "code",
   "execution_count": 60,
   "metadata": {},
   "outputs": [
    {
     "name": "stdout",
     "output_type": "stream",
     "text": [
      "[[71054    28]\n",
      " [  119     1]]\n"
     ]
    }
   ],
   "source": [
    "from sklearn import random_projection\n",
    "\n",
    "\n",
    "X_Train_Ridge = random_projection.GaussianRandomProjection(n_components=15).fit_transform(X_train, Y_train)\n",
    "\n",
    "random_forest = make_pipeline(StandardScaler(), RandomForestClassifier(n_jobs=-1))\n",
    "random_forest.fit(X_Train_Ridge, Y_train)\n",
    "cm = confusion_matrix(Y_test, random_forest.predict(X_test[:,:15]))\n",
    "scores.append(cm[0, 1])\n",
    "print(cm)\n",
    "features_number.append(X_Train_RFE.shape[1])\n",
    "methods.append(\"GRP\")"
   ]
  },
  {
   "cell_type": "markdown",
   "metadata": {},
   "source": [
    "## Wyniki"
   ]
  },
  {
   "cell_type": "code",
   "execution_count": 58,
   "metadata": {},
   "outputs": [
    {
     "data": {
      "image/png": "[encoded data removed]",
      "text/plain": [
       "<Figure size 432x288 with 1 Axes>"
      ]
     },
     "metadata": {
      "needs_background": "light"
     },
     "output_type": "display_data"
    }
   ],
   "source": [
    "import matplotlib.pyplot as plt\n",
    "\n",
    "plt.bar(np.arange(len(methods)), scores, align='center', alpha=0.5)\n",
    "plt.xticks(np.arange(len(methods)), methods, rotation = 60)\n",
    "plt.ylabel('False negative')\n",
    "plt.title('Method')\n",
    "\n",
    "plt.show()"
   ]
  },
  {
   "cell_type": "markdown",
   "metadata": {},
   "source": [
    "### Wyniki: liczba wymiarów"
   ]
  },
  {
   "cell_type": "code",
   "execution_count": null,
   "metadata": {},
   "outputs": [],
   "source": [
    "import matplotlib.pyplot as plt\n",
    "\n",
    "plt.bar(np.arange(len(methods)), features_number, align='center', alpha=0.5)\n",
    "plt.xticks(np.arange(len(methods)), methods, rotation = 60)\n",
    "plt.ylabel('False negative')\n",
    "plt.title('Method')\n",
    "\n",
    "plt.show()"
   ]
  },
  {
   "cell_type": "code",
   "execution_count": null,
   "metadata": {},
   "outputs": [],
   "source": []
  }
 ],
 "metadata": {
  "kernelspec": {
   "display_name": "Python 3",
   "language": "python",
   "name": "python3"
  },
  "language_info": {
   "codemirror_mode": {
    "name": "ipython",
    "version": 3
   },
   "file_extension": ".py",
   "mimetype": "text/x-python",
   "name": "python",
   "nbconvert_exporter": "python",
   "pygments_lexer": "ipython3",
   "version": "3.6.1"
  }
 },
 "nbformat": 4,
 "nbformat_minor": 4
}
